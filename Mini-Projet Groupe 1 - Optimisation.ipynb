{
 "cells": [
  {
   "cell_type": "markdown",
   "metadata": {},
   "source": [
    "# Optimisation - Groupe 1"
   ]
  },
  {
   "cell_type": "markdown",
   "metadata": {},
   "source": [
    "## Charge d'une flotte de véhicules électriques"
   ]
  },
  {
   "cell_type": "markdown",
   "metadata": {},
   "source": [
    "On s’intéresse dans ce sujet à la charge de plusieurs vé- hicules électriques connectés à une station de recharge. Chaque véhicule est décrit par une heure et un état de charge d’arrivée et l’utilisateur indique au système d’ordonnancement une heure et un état de charge de récupération. On cherche dans ce contexte à assurer ces demandes, tout en minimisant le coût électrique de recharge et en assurant que la puissance électrique fournie aux différents véhicules ne dépasse pas la puis- sance maximale fournie par le réseau. On s’appuiera sur des données disponibles sur Oasis."
   ]
  },
  {
   "cell_type": "markdown",
   "metadata": {},
   "source": [
    "### 1. Modélisation"
   ]
  },
  {
   "cell_type": "markdown",
   "metadata": {},
   "source": [
    "1. Formuler la fonction objectif du problème. On pourra supposer l’existence de deux tarifs électriques (heures pleines et heures creuses).\n",
    "2. Formuler un modèle dynamique reliant l’état de charge d’un véhicule et la puissance qui lui est fournie.\n",
    "3. Proposer une méthodologie d’identification de ce modèle basée sur les données fournies sur Oasis et la mettre en oeuvre.\n",
    "4. Formaliser les contraintes restantes du problème et formuler le problème de minimisation correspon- dant. On précisera en particulier les variables de décision, les contraintes (au nombre de six) et la fonction objectif du problème."
   ]
  },
  {
   "cell_type": "markdown",
   "metadata": {},
   "source": [
    "### 2. Etude et résolution numérique"
   ]
  },
  {
   "cell_type": "markdown",
   "metadata": {},
   "source": [
    "On s’intéresse dans un premier temps au cas d’un seul véhicule.\n",
    "1. Etudier le problème (convexité, conditionnement, existence et unicité d’une solution) par la méthode, analytique ou numérique, de votre choix. Proposer une méthode de résolution adaptée aux caractéris- tiques du problème.\n",
    "2. Proposer des ordres de grandeurs pour les variables du problème et développer un algorithme de résolution. Commenter les résultats obtenus."
   ]
  },
  {
   "cell_type": "markdown",
   "metadata": {},
   "source": [
    "### 3. Etude avancée"
   ]
  },
  {
   "cell_type": "markdown",
   "metadata": {},
   "source": [
    "\n",
    "On se propose maintenant d’étudier le problème de plusieurs véhicules.\n",
    "3. Etudier la faisabilité d’une méthode de décomposition-coordination (présentée en annexe).\n",
    "4. Appliquer cette méthodologie dans le cas de deux véhicules. L’implémenter. Commenter les résultats obtenus."
   ]
  },
  {
   "cell_type": "markdown",
   "metadata": {},
   "source": [
    "#### Annexe : Algorithme de décomposition/coordination\n",
    "L’algorithme de décomposition/coordination par méthode d’Uzawa permet de résoudre un problème d’optimisation dans le cas où :\n",
    "- le coût $f$ se décompose comme une somme de différents termes ne dépendant que d’une variable de décision\n",
    "$$ f (x) = f_1(x_1) + . . . + f_n(x_n) $$\n",
    "- les containtes inégalités (et égalités) $c$ se décomposent comme une somme de différents termes ne dépendant que d’une variable de décision\n",
    "$$ c(x) = c_1(x_1) + . . . + c_n(x_n)$$\n",
    "Le principe de l’algorithme est alors de \"décomposer\" le problème à l’aide du Lagrangien, de résoudre n problèmes d’optimisation sous contraintes à l’aide des multiplicateurs de Lagrange et de \"coordonner\" les solutions pour mettre à jour les variables couplées (les multiplicateurs).\n",
    "\n",
    "Il prend la forme suivante :\n",
    "\n",
    "##### Algorithme 1 (Décomposition/coordination)\n",
    "1. Initialisation ($k = 0$) : on choisit le multiplicateur $\\lambda_0$ et le pas $\\rho$.\n",
    "2. Décomposition : on résout les $n$ problèmes :\n",
    "$$ min (f_i(x_i) + \\lambda^k c_i(x_i)) $$\n",
    "dont on note $x^k_i$ les solutions.\n",
    "3. Coordination : effectuer les mises à jour des multiplicateurs\n",
    "$$ \\lambda^{k+1} =P(\\lambda^k +\\rho [c_1(x^k_1)+...+c_n(x^k_n)]) $$\n",
    "où $P$ est la projection sur $\\mathbb{(R^+)}^m$\n",
    "4. Test d’arrêt : si $|\\lambda^{k+1} − \\lambda^k|$ est suffisamment petit, on arrête l’algorithme. Sinon, $k = k + 1$ et on revient à l’étape 2."
   ]
  },
  {
   "cell_type": "markdown",
   "metadata": {},
   "source": [
    "### Propositions d'Antoine :"
   ]
  },
  {
   "cell_type": "markdown",
   "metadata": {},
   "source": [
    "# Exploration du problème"
   ]
  },
  {
   "cell_type": "markdown",
   "metadata": {},
   "source": [
    "### Fonction objectif"
   ]
  },
  {
   "cell_type": "markdown",
   "metadata": {},
   "source": [
    "On est face à un problème de répartition de puissance : on peut représenter le problème par un vecteur colonne de $N$ éléments représentant chacun une voiture et dont la composante $i$ représente la fraction de puissance du centre $P$ allouée à la voiture sur la place $i$. En notant ce vecteur $v$ on aura alors : \n",
    "    $\\sum \\limits_{i=1}^N v_i = 1$ et \n",
    "    $\\forall i \\in [1,N], v_i \\in [0,1]$. Ces $(v_i)_{i \\in [1;N]}$ sont nos variables de décisions.\n",
    "\n",
    "Etant donné ce vecteur $v(t)$ on peut alors donner le coût total de charge : $f(v) = \\sum\\limits_{i=1}^N \\displaystyle \\int_{t_{i_0}}^{t_{i_1}} v_i(t)*c(t) \\, \\mathrm{d}t := \\sum\\limits_{i=1}^N f_i(v)$\n",
    "\n",
    "En notant $ c : t \\in [0;24] \\Longrightarrow c(t) $ la fonction de coût de la puissance électrique en fonction du temps.\n",
    "\n",
    "Enfin on note $P$ la puissance totale du centre, ainsi que $batt_i(t) =  batt_i(t_{i_0}) + \\displaystyle \\int_{t_{i_0}}^{t} rech(P*v_i(x), batt_i(x)) \\, \\mathrm{d}x  $ la fonction représentant la batterie de la voiture $i$ à l'instant $t$, où l'on aura noté $rech$ la fonction de recharge d'une batterie, qui prend donc en argument la puissance reçue et la charge de la batterie"
   ]
  },
  {
   "cell_type": "markdown",
   "metadata": {},
   "source": [
    "### Modèle de recharge en fonction de la puissance reçue"
   ]
  },
  {
   "cell_type": "markdown",
   "metadata": {},
   "source": [
    "J'ai un peu cherché et j'ai demandé conseil à notre chargé de TD, on va voir ce qu'il répond\n",
    "\n",
    "Parce que le problème est que beaucoup de modèles sont possibles, notamment en fonction de la batterie du véhicule... On a assez peu d'infos là dessus et ce choix va bcp conditionner nos solutions"
   ]
  },
  {
   "cell_type": "markdown",
   "metadata": {},
   "source": [
    "### Contraintes"
   ]
  },
  {
   "cell_type": "markdown",
   "metadata": {},
   "source": [
    "Là dessus on a assez peu de choix (on est assez contraints lol). Le sujet parle de 6 contraintes, j'ai trouvé celles-ci :\n",
    " - Puissance max autorisée : $\\forall t,  \\sum \\limits_{i=1}^N v_i(t) \\leq 1$\n",
    " - Heure d'arrivée de la voiture $i$ : $t_{i_0} $. Contrainte associée : $v_i(t_i)_{t_i \\leq t_{i_0}} = 0$ \n",
    " - Heure de départ de la voiture $i$ : $t_{i_1} $. Contrainte associée : $v_i(t_i)_{t_i \\ge t_{i_1}} = 0$ \n",
    " - Taux de charge initial : $c_{i_0}$. Contrainte associée : $batt_i(t_{i_0}) = c_{i_0}$ \n",
    " - Taux de charge final : $c_{i_1}$. Contrainte associée : $batt_i(t_{i_1}) = c_{i_1}$ \n",
    " - Modèle de recharge de la batterie.\n",
    " \n",
    " Ce sont les seules contraintes qui agissent, selon moi, sur les variables de décisions. Pour les 5 premières l'influence sur le vecteur $v$ me semble évidente, et pour la dernière la modification du modèle de recharge va changer la courbe de recharge des batteries et influencer nos solutions.\n",
    " \n",
    " Nous pourrons d'ailleurs changer ce modèle afin d'observer son influence sur nos solutions\n",
    " "
   ]
  },
  {
   "cell_type": "markdown",
   "metadata": {},
   "source": [
    "## Problème de minimisation"
   ]
  },
  {
   "cell_type": "markdown",
   "metadata": {},
   "source": [
    "On fait donc face au problème suivant :"
   ]
  },
  {
   "cell_type": "markdown",
   "metadata": {},
   "source": [
    "$\\min\\limits_{\\forall t,  \\sum \\limits_{i=1}^N v_i(t) \\leq 1 , v_i(t_i)_{t_i \\leq t_{i_0}} = 0 , v_i(t_i)_{t_i \\ge t_{i_1}} = 0 , c_{i_0} + \\displaystyle \\int_{t_{i_0}}^{t_{i_1}} rech(P*v_i(x), batt_i(x)) \\, \\mathrm{d}x = c_{i_1}}\n",
    "( \\sum\\limits_{i=1}^N \\displaystyle \\int_{t_{i_0}}^{t_{i_1}} P*v_i(t)*c(t) \\, \\mathrm{d}t )\n",
    "$"
   ]
  },
  {
   "cell_type": "markdown",
   "metadata": {},
   "source": [
    "Ou plus succintement :"
   ]
  },
  {
   "cell_type": "markdown",
   "metadata": {},
   "source": [
    "$\\min\\limits_{\\forall t,  \\sum \\limits_{i=1}^N v_i(t) \\leq 1 , v_i(t_i)_{t_i \\leq t_{i_0}, t_i \\ge t_{i_1}} = 0 , v_i(t_i)_{t_i \\ge t_{i_1}} = 0 , batt_i(t_{i_0}) = c_{i_0}, batt_i(t_{i_1}) = c_{i_1}}\n",
    "( f(v) )\n",
    "$"
   ]
  },
  {
   "cell_type": "markdown",
   "metadata": {},
   "source": [
    "### Critère de faisabilité "
   ]
  },
  {
   "cell_type": "markdown",
   "metadata": {},
   "source": [
    "Le problème doit être supposé soluble afin de pouvoir obtenir un solution\n",
    "\n",
    "Cherchons un critère de faisabilité de ce problème"
   ]
  },
  {
   "cell_type": "code",
   "execution_count": null,
   "metadata": {},
   "outputs": [],
   "source": []
  }
 ],
 "metadata": {
  "kernelspec": {
   "display_name": "Python 3",
   "language": "python",
   "name": "python3"
  },
  "language_info": {
   "codemirror_mode": {
    "name": "ipython",
    "version": 3
   },
   "file_extension": ".py",
   "mimetype": "text/x-python",
   "name": "python",
   "nbconvert_exporter": "python",
   "pygments_lexer": "ipython3",
   "version": "3.7.6"
  }
 },
 "nbformat": 4,
 "nbformat_minor": 2
}
