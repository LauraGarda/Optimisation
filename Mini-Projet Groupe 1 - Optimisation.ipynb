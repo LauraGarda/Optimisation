{
 "cells": [
  {
   "cell_type": "markdown",
   "metadata": {},
   "source": [
    "# Optimisation - Groupe 1"
   ]
  },
  {
   "cell_type": "markdown",
   "metadata": {},
   "source": [
    "## Charge d'une flotte de véhicules électriques"
   ]
  },
  {
   "cell_type": "markdown",
   "metadata": {},
   "source": [
    "On s’intéresse dans ce sujet à la charge de plusieurs vé- hicules électriques connectés à une station de recharge. Chaque véhicule est décrit par une heure et un état de charge d’arrivée et l’utilisateur indique au système d’ordonnancement une heure et un état de charge de récupération. On cherche dans ce contexte à assurer ces demandes, tout en minimisant le coût électrique de recharge et en assurant que la puissance électrique fournie aux différents véhicules ne dépasse pas la puis- sance maximale fournie par le réseau. On s’appuiera sur des données disponibles sur Oasis."
   ]
  },
  {
   "cell_type": "markdown",
   "metadata": {},
   "source": [
    "### 1. Modélisation"
   ]
  },
  {
   "cell_type": "markdown",
   "metadata": {},
   "source": [
    "1. Formuler la fonction objectif du problème. On pourra supposer l’existence de deux tarifs électriques (heures pleines et heures creuses).\n",
    "2. Formuler un modèle dynamique reliant l’état de charge d’un véhicule et la puissance qui lui est fournie.\n",
    "3. Proposer une méthodologie d’identification de ce modèle basée sur les données fournies sur Oasis et la mettre en oeuvre.\n",
    "4. Formaliser les contraintes restantes du problème et formuler le problème de minimisation correspon- dant. On précisera en particulier les variables de décision, les contraintes (au nombre de six) et la fonction objectif du problème."
   ]
  },
  {
   "cell_type": "markdown",
   "metadata": {},
   "source": [
    "### 2. Etude et résolution numérique"
   ]
  },
  {
   "cell_type": "markdown",
   "metadata": {},
   "source": [
    "On s’intéresse dans un premier temps au cas d’un seul véhicule.\n",
    "1. Etudier le problème (convexité, conditionnement, existence et unicité d’une solution) par la méthode, analytique ou numérique, de votre choix. Proposer une méthode de résolution adaptée aux caractéris- tiques du problème.\n",
    "2. Proposer des ordres de grandeurs pour les variables du problème et développer un algorithme de résolution. Commenter les résultats obtenus."
   ]
  },
  {
   "cell_type": "markdown",
   "metadata": {},
   "source": [
    "### 3. Etude avancée"
   ]
  },
  {
   "cell_type": "markdown",
   "metadata": {},
   "source": [
    "\n",
    "On se propose maintenant d’étudier le problème de plusieurs véhicules.\n",
    "3. Etudier la faisabilité d’une méthode de décomposition-coordination (présentée en annexe).\n",
    "4. Appliquer cette méthodologie dans le cas de deux véhicules. L’implémenter. Commenter les résultats obtenus."
   ]
  },
  {
   "cell_type": "markdown",
   "metadata": {},
   "source": [
    "#### Annexe : Algorithme de décomposition/coordination\n",
    "L’algorithme de décomposition/coordination par méthode d’Uzawa permet de résoudre un problème d’optimisation dans le cas où :\n",
    "- le coût $f$ se décompose comme une somme de différents termes ne dépendant que d’une variable de décision\n",
    "$$ f (x) = f_1(x_1) + . . . + f_n(x_n) $$\n",
    "- les containtes inégalités (et égalités) $c$ se décomposent comme une somme de différents termes ne dépendant que d’une variable de décision\n",
    "$$ c(x) = c_1(x_1) + . . . + c_n(x_n)$$\n",
    "Le principe de l’algorithme est alors de \"décomposer\" le problème à l’aide du Lagrangien, de résoudre n problèmes d’optimisation sous contraintes à l’aide des multiplicateurs de Lagrange et de \"coordonner\" les solutions pour mettre à jour les variables couplées (les multiplicateurs).\n",
    "\n",
    "Il prend la forme suivante :\n",
    "\n",
    "##### Algorithme 1 (Décomposition/coordination)\n",
    "1. Initialisation ($k = 0$) : on choisit le multiplicateur $\\lambda_0$ et le pas $\\rho$.\n",
    "2. Décomposition : on résout les $n$ problèmes :\n",
    "$$ min 􏰀(f_i(x_i) + \\lambda^k c_i(x_i)) $$\n",
    "dont on note $x^k_i$ les solutions.\n",
    "3. Coordination : effectuer les mises à jour des multiplicateurs\n",
    "$$ \\lambda^{k+1} =P(\\lambda^k +\\rho [c_1(x^k_1)+...+c_n(x^k_n)􏰁]) $$\n",
    "où $P$ est la projection sur $\\mathbb{(R^+)}^m$\n",
    "4. Test d’arrêt : si $|\\lambda^{k+1} − \\lambda^k|$ est suffisamment petit, on arrête l’algorithme. Sinon, $k = k + 1$ et on revient à l’étape 2."
   ]
  },
  {
   "cell_type": "code",
   "execution_count": null,
   "metadata": {},
   "outputs": [],
   "source": []
  }
 ],
 "metadata": {
  "kernelspec": {
   "display_name": "Python 3",
   "language": "python",
   "name": "python3"
  },
  "language_info": {
   "codemirror_mode": {
    "name": "ipython",
    "version": 3
   },
   "file_extension": ".py",
   "mimetype": "text/x-python",
   "name": "python",
   "nbconvert_exporter": "python",
   "pygments_lexer": "ipython3",
   "version": "3.7.2"
  }
 },
 "nbformat": 4,
 "nbformat_minor": 2
}
