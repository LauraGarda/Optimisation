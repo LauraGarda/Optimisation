{
 "cells": [
  {
   "cell_type": "markdown",
   "metadata": {},
   "source": [
    "# Charge d'une flotte de véhicules électriques"
   ]
  },
  {
   "cell_type": "markdown",
   "metadata": {},
   "source": [
    "On s’intéresse dans ce sujet à la charge de plusieurs véhicules électriques connectés à une station de recharge. Chaque véhicule est décrit par une heure et un état de charge d’arrivée et l’utilisateur indique au système d’ordonnancement une heure et un état de charge de récupération. On cherche dans ce contexte à assurer ces demandes, tout en minimisant le coût électrique de recharge et en assurant que la puissance électrique fournie aux différents véhicules ne dépasse pas la puis- sance maximale fournie par le réseau. On s’appuiera sur des données disponibles sur Oasis."
   ]
  },
  {
   "cell_type": "markdown",
   "metadata": {},
   "source": [
    "# Cadre d'étude"
   ]
  },
  {
   "cell_type": "markdown",
   "metadata": {},
   "source": [
    "On discrétise le temps en T points : $(t_i)_{i \\in [1,T]}$. Les voitures sont au nombre de N $(voitures_i)_{i \\in [1,N]}$.\n",
    "\n",
    "On se munit également d'un vecteur ligne de coût de l'électricité : $ C := (c_i)_{i \\in [1,T]}$ et d'une matrice $Var$ dont l'élément d'indice $(i,j)$ représente la fraction de puissance totale allouée à la voiture $j$ au temps $t_i$\n",
    "\n",
    "On notera $i_0$ et $i_1$ les temps d'arrivée et de départ de la voiture $i$, ainsi que $Charge_i^0$ et $Charge_i^1$ ses taux de charge à l'arrivée et au départ du centre.\n",
    "\n",
    "La batterie de la voiture $j$ au temps $i$ sera représentée par l'élément d'indice $(i,j)$  de la matrice $Charge$.\n",
    "\n",
    "On note enfin $U$ la tension nominale de charge, $P$ la puissance totale du centre."
   ]
  },
  {
   "cell_type": "markdown",
   "metadata": {},
   "source": [
    "# Formalisation du problème"
   ]
  },
  {
   "cell_type": "markdown",
   "metadata": {},
   "source": [
    "## Fonction objectif"
   ]
  },
  {
   "cell_type": "markdown",
   "metadata": {},
   "source": [
    "La fonction a minimser est la somme des coûts de la puissance réquisitionnée par le centre.\n",
    "\n",
    "Nous pouvons la représenter par : $f(V) = \\sum\\limits_{i=1}^N \\displaystyle \\int_{0}^{T} c(t)*Var_i(t) \\, \\mathrm{d}t = \\sum\\limits_{i = 1, j = 1}^{i = N, j = T} c_i*v_{i,j} = sum(c*Var) = \\sum\\limits_{i=1}^N f_i(Var)$\n",
    "\n",
    "On on a noté $f_i$ la fonction qui à la matrice $V$ associe le coût de la voiture $i$ sur tout l'intervalle de temps : $f_i(Var) = c*Var^T[i]$"
   ]
  },
  {
   "cell_type": "markdown",
   "metadata": {},
   "source": [
    "## Contraintes"
   ]
  },
  {
   "cell_type": "markdown",
   "metadata": {},
   "source": [
    "### Contraintes pré-analyse"
   ]
  },
  {
   "cell_type": "markdown",
   "metadata": {},
   "source": [
    "Nous avons tout d'abord identifié 6 contraintes dans ce problème, les voici :"
   ]
  },
  {
   "cell_type": "markdown",
   "metadata": {},
   "source": [
    " - Puissance max autorisée : $\\forall i \\in [0,T],  \\sum \\limits_{j=1}^N v_{i,j} \\leq 1$\n",
    " - Puissance négative non autorisée : $\\forall i \\in [0,T], 0 \\leq v_{i,j}  $\n",
    " - Heure d'arrivée de la voiture $j$ : $t_{j_0} $. Contrainte associée : $v_{{i,j}_{i \\leq i_0}} = 0$ \n",
    " - Heure de départ de la voiture $j$ : $t_{j_1} $. Contrainte associée : $v_{{i,j}_{i \\ge i_1}} = 0$ \n",
    " - Taux de charge initial. Contrainte associée : $Charge_{i_0,i} = Charge_i^0$ \n",
    " - Taux de charge final. Contrainte associée : $Charge_{i_1,i} = Charge_i^1$ \n",
    " - Modèlisation de la charge de la batterie"
   ]
  },
  {
   "cell_type": "markdown",
   "metadata": {},
   "source": [
    "### Modélisation de la batterie"
   ]
  },
  {
   "cell_type": "markdown",
   "metadata": {},
   "source": [
    "Nous avons reçu un échantillon de données représentant le taux de charge d'une batterie et l'intensité de chargement en fonction du temps. A partir de ces données nous avons pu lier la vitesse de charge d'une batterie en fonction de l'intensité de chargement."
   ]
  },
  {
   "cell_type": "markdown",
   "metadata": {},
   "source": [
    "![donnees](figures/batterie/affichage_donnees.png)"
   ]
  },
  {
   "cell_type": "markdown",
   "metadata": {},
   "source": [
    "On repère ici différents palliers d'intensité de charge. Ceci nous a incité à créer le graphique suivant"
   ]
  },
  {
   "cell_type": "markdown",
   "metadata": {},
   "source": [
    "![donnees](figures/batterie/affichage_donnees_2.png)"
   ]
  },
  {
   "cell_type": "markdown",
   "metadata": {},
   "source": [
    "On voit ici se dessiner un modèle linéaire, très bruité. Nous avons donc décidé de faire la moyenne de la vitesse de charge pour chaque pallier d'intensité (pour réduire ce bruit), puis d'appliquer la méthode des moindres carrés pour trouver la droite modélisant le mieux cet échantillon de données"
   ]
  },
  {
   "cell_type": "markdown",
   "metadata": {},
   "source": [
    "![modele](figures/batterie/modele_de_recharge_lstsq_test.png)"
   ]
  },
  {
   "cell_type": "markdown",
   "metadata": {},
   "source": [
    "On obtient donc la relation suivante :\n",
    "\n",
    "$Charge_{i+1,j} = Charge_{i,j} + \\Delta t * (a * P *\\frac{Var_{i,j}}{U} + b)$ avec $a$ le coefficient directeur et $b$ l'ordonnée à l'origine du modèle linéaire. \n",
    "\n",
    "On a donc : $Charge_{i_1,i} - Charge_{i_0,i} = \\Delta t * P * a * \\frac{\\sum\\limits_{i = i_0}^{i_1} Var_{i,j}}{U} + (i_1 - i_0) * b * \\Delta t$ \n",
    "\n",
    "Or on a trouvé b de l'ordre de $10^{-3}$ donc négligable ici et on a la nullité de $V_{i,j}$ en dehors des termes de la somme. Ceci est cohérent avec le modèle choisi : si l'intensité est nulle, la voiture au repos voit sa batterie rester constante. Si l'on veut vraiment coller mieux au modèle trouvé, il suffit alors d'augmenter la puissance demandée d'un facteur proportionnel à l'ordonnée à l'origine.\n",
    "\n",
    "On a donc enfin : $Charge_{i_1,i} - Charge_{i_0,i} = \\Delta t * P * a * \\frac{\\sum\\limits_{i = 0}^{T} Var_{i,j}}{U}$\n",
    "\n",
    "D'où la contrainte simplifiée suivante : $\\sum\\limits_{i = 0}^{T} Var_{i,j} = U * \\frac {\\Delta Charge_j}{\\Delta t * a * P}$"
   ]
  },
  {
   "cell_type": "markdown",
   "metadata": {},
   "source": [
    "### Ré-évaluation des contraintes"
   ]
  },
  {
   "cell_type": "markdown",
   "metadata": {},
   "source": [
    "Les contraintes du problème deviennent alors\n",
    "  - Puissance maximale autorisée $P$ : $\\forall i \\in [0,T],  \\sum \\limits_{j=1}^N Var_{i,j} \\leq 1$\n",
    "  - Heure d'arrivée et de départ des voitures. $\\forall j \\in [1,N], Var_{{i,j}_{i < j_0}} = 0 = Var_{{i,j}_{i > j_1}}$\n",
    "  - Charge obligatoire : $\\forall j \\in [1,N], \\sum\\limits_{i = 0}^{T} Var_{i,j} = \\Delta Charge_j * \\frac {U}{\\Delta t * a * P} = \\Delta Charge_j * K$ avec $K = \\frac {U}{\\Delta t * a * P}$ constant. "
   ]
  },
  {
   "cell_type": "markdown",
   "metadata": {},
   "source": [
    "# Problème final"
   ]
  },
  {
   "cell_type": "markdown",
   "metadata": {},
   "source": [
    "Finalement, nous en arrivons au problème final, comportant des contraintes individuelles (la charge) et des contraintes couplées (la puissance maximale à ne pas dépasser), tout en prenant en compte le coût des charges:\n",
    "\n",
    "$$ \\min\\limits_{\\forall j \\in [1,N], Var_{{i,j}_{i < j_0}} = 0 = Var_{{i,j}_{i > j_1}} , \\forall i \\in [0,T],  \\sum \\limits_{j=1}^N Var_{i,j} \\leq 1, \\forall j \\in [1,N] , \\sum\\limits_{i = j_0}^{j_1} Var_{i,j} = \\Delta Charge_j * K} (f(Var))$$"
   ]
  },
  {
   "cell_type": "markdown",
   "metadata": {},
   "source": [
    "# Etude du problème et résolution"
   ]
  },
  {
   "cell_type": "markdown",
   "metadata": {},
   "source": [
    "# Cas d'un unique véhicule"
   ]
  },
  {
   "cell_type": "markdown",
   "metadata": {},
   "source": [
    "L'étude d'un cas simple tel que le problème à un véhicule est utile afin de comprendre les spécificités de ce problème. Nous allons tout d'abord étudier la fonction objectif, puis l'existence puis l'unicité des solutions de ce problème.\n",
    "\n",
    "Pour ce cas particulier, on considérera que l'on se place sur l'intervalle de temps correspondant exactement à celui de la charge de la voiture. Cela évite de contraindre la nullité de certaines $v_i$"
   ]
  },
  {
   "cell_type": "markdown",
   "metadata": {},
   "source": [
    "## Etude de la fonction objectif"
   ]
  },
  {
   "cell_type": "markdown",
   "metadata": {},
   "source": [
    "On a, pour $Var \\in \\mathbb R^T, f(Var) = C*Var$\n",
    "\n",
    "Donc f est linéaire, donc convexe (mais pas fortement)."
   ]
  },
  {
   "cell_type": "markdown",
   "metadata": {},
   "source": [
    "### Existence et unicité des solutions"
   ]
  },
  {
   "cell_type": "markdown",
   "metadata": {},
   "source": [
    "Ce problème admettra une solution lorsque les contraintes définissent un domaine non vide. En effet ces contraintes donneraient alors un espace fermé explorable par la fonction objectif, qui est linéaire en dimension finie donc continue.\n",
    "\n",
    "Le théorème de Weierstrass assure alors l'existence d'une solution au problème de minimisation."
   ]
  },
  {
   "cell_type": "markdown",
   "metadata": {},
   "source": [
    "Dans le cas d'un unique véhicule, on a N = 1, ainsi les contraintes se résument à :\n",
    " - $\\forall i \\in [1,T], Var_{i,1} \\leq 1$\n",
    " - $\\sum\\limits_{i = 1_0}^{1_1} Var_{i,1} = \\Delta Charge_1 * K$\n",
    " \n",
    " Le problème est donc solvable si et seulement si lorsque l'on maximise la puissance donnée à la voiture on dépasse la contrainte de charge, donc si et seulement si :\n",
    " $$ \\frac{1_1 - 1_0}{K} \\ge \\Delta Charge_1 $$"
   ]
  },
  {
   "cell_type": "markdown",
   "metadata": {},
   "source": [
    "Nous cherchons aussi une condition nécessaire et suffisante afin d'assurer l'unicité d'une solution. On raisonne donc par disjonction de cas. On se place du point de vue d'une solution au problème.\n",
    "\n",
    "Deux cas de figure se présentent alors:\n",
    " - Si aucune charge n'est réalisée sur une heure pleine\n",
    " - Si une partie de la charge est réalisée sur une heure creuse\n",
    " \n",
    "Dans le premier cas: \n",
    " - Si la puissance est maximale pendant toute la durée des heures creuses : La solution est unique.\n",
    " - Si non, alors on dispose de deux indices de temps en heures creuses pour lesquels la puissance délivrée à la voiture est différente, on peut alors intervertir les puissances de ces deux indices. On a donc le même coût en électricité, mais pas le même profil de charge : La solution n'est pas unique\n",
    "\n",
    "Dans le second cas, on a nécessairement une puissance maximale sur les heures creuses, car sinon le coût de charge n'est pas optimal. On a également une disjonction de cas semblable au premier cas:\n",
    " - Si la puissance est maximale pendant toute la durée des heures pleines : La solution est unique\n",
    " - Si non, alors on dispose de deux indices de temps en heures pleines pour lesquels la puissance délivrée à la voiture est différente, on peut alors intervertir les puissances de ces deux indices. On a donc le même coût en électricité, mais pas le même profil de charge : La solution n'est pas unique"
   ]
  },
  {
   "cell_type": "markdown",
   "metadata": {},
   "source": [
    "Finalement, on a unicité de la solution si et seulement si on a :\n",
    "$$ \\sum\\limits_{i \\in heures creuses} 1 = \\Delta Charge_1 * K $$ \n",
    "\n",
    "ou \n",
    "\n",
    "$$ 1_1 - 1_0 = \\Delta Charge_1 * K$$\n",
    "\n",
    "Ce qui en pratique n'arrivera pas."
   ]
  },
  {
   "cell_type": "markdown",
   "metadata": {},
   "source": [
    "### Résolution du problème"
   ]
  },
  {
   "cell_type": "markdown",
   "metadata": {},
   "source": [
    "Dans ce cas simple, nous avons occulté les contraintes de nullité sur les $v_i$, comme dit précédemment.\n",
    "On s'est munis d'un vecteur de coût ayant une valeur basse (1) pour la première moitié du temps, et une valeur haute (2) pour l'autre moitié.\n",
    "\n",
    "On peut résoudre ce problème par l'algorithme d'Uzawa."
   ]
  },
  {
   "cell_type": "markdown",
   "metadata": {},
   "source": [
    "Pour les constantes du problème, nous avons adopté les valeurs suivantes :\n",
    " - Puissance totale du centre : $P = 2000 W$\n",
    " - Tension de charge unitaire : $U = 400 V$\n",
    " - Pente de charge : $a = 0.00184507 A^{-1}$ \n",
    "\n",
    "Ceci nous donne un coefficient totale $K = 1083.9697$\n",
    "\n",
    "Nous avons discrétisé le temps en 10 points, chacun représentant une seconde.\n",
    "\n",
    "Enfin, nous avons fixé la puissance demandée à 9 en représentation normalisée (c'est à dire dans la même unité que les fractions de puissance allouées à chaque créneau de temps)."
   ]
  },
  {
   "cell_type": "markdown",
   "metadata": {},
   "source": [
    "### Résultats"
   ]
  },
  {
   "cell_type": "markdown",
   "metadata": {},
   "source": [
    "L'algorithme a bien fonctionné, voilà le profil de charge que l'on obtient :\n",
    "\n",
    "Dans l'algorithme d'uzawa nous avons utilisé des paramètres égaux à 1.5"
   ]
  },
  {
   "cell_type": "markdown",
   "metadata": {},
   "source": [
    "![comparaison](figures/une_voiture/comparaision.png)"
   ]
  },
  {
   "cell_type": "markdown",
   "metadata": {},
   "source": [
    "Nous avons voulu étudier l'influence des paramètres de l'algorithme d'Uzawa. Cela nous servira plus tard dans le problème à deux voitures.\n",
    "\n",
    "Voilà les résultats que nous avons obtenu"
   ]
  },
  {
   "cell_type": "markdown",
   "metadata": {},
   "source": [
    "![influence](figures/une_voiture/influence.png)"
   ]
  },
  {
   "cell_type": "markdown",
   "metadata": {},
   "source": [
    "Zoom sur la fin de la courbe"
   ]
  },
  {
   "cell_type": "markdown",
   "metadata": {},
   "source": [
    "![influence](figures/une_voiture/zoom.png)"
   ]
  },
  {
   "cell_type": "markdown",
   "metadata": {},
   "source": [
    "Le pas semblant optimal semble donc être environ 0.5 nous avons utilisé cette valeur dans la majorité de nos applications suivantes. "
   ]
  },
  {
   "cell_type": "markdown",
   "metadata": {},
   "source": [
    "# Cas de deux véhicules"
   ]
  },
  {
   "cell_type": "markdown",
   "metadata": {},
   "source": [
    "Dans le cas de deux véhicules, on va voir apparaitre des soucis liés à une surexploitation de la puissance disponible. Cela mène à considérer l'algorithme proposé dans le sujet.\n",
    "\n",
    "Le but de cet algorithme est de distinguer les parties indépendantes d'un problème de minimisation de ses parties interdépendants. Ici les parties indépendantes sont les charges des voitures par rapport à leur objectif individuel, et les parties interdépendantes sont les considérations de puissance maximale allouable"
   ]
  },
  {
   "cell_type": "markdown",
   "metadata": {},
   "source": [
    "On implémente donc cet algorithme, mais un problème se pose, il est illustré dans le cas suivant"
   ]
  },
  {
   "cell_type": "markdown",
   "metadata": {},
   "source": [
    "## Problèmes rencontrés"
   ]
  },
  {
   "cell_type": "markdown",
   "metadata": {},
   "source": [
    "Nous avons voulu tout d'abord tester notre algorithme dans un cas simple : on veut charger deux voitures arrivant et repartant en même temps, sur un temps court et pour la même demande en terme de charge\n",
    "\n",
    "On a utilisé un prix qui varie entre deux constantes. Une haute : 2 et une faible : 1"
   ]
  },
  {
   "cell_type": "markdown",
   "metadata": {},
   "source": [
    "Le but était ici d'étudier la réaction de l'algorithme face à une situation très polarisée : les deux voitures ont les mêmes besoins, et cherchent donc toujours les prix les plus bas aux mêmes endroits."
   ]
  },
  {
   "cell_type": "markdown",
   "metadata": {},
   "source": [
    "![fail 1](figures/deux_voitures_V1/num_1.png)"
   ]
  },
  {
   "cell_type": "markdown",
   "metadata": {},
   "source": [
    "On voit sur ce schéma que l'algorithme suit un pallier pendant un certain temps, dont la durée est variable en fonction du paramètres changeant les coefficients de lagranges associés aux contraintes couplées (car il s'opère un équilibrage des valeurs à ce moment là)\n",
    "Lorsque les coefficients couplés ont trop augmenté la valeur du prix faible par rapport au prix élevé, le système bascule dans l'état opposé : les voitures se chargent majoritairement sur des temps ou le prix est plus élevé"
   ]
  },
  {
   "cell_type": "markdown",
   "metadata": {},
   "source": [
    "![fail 1](figures/deux_voitures_V1/num_2.png)"
   ]
  },
  {
   "cell_type": "markdown",
   "metadata": {},
   "source": [
    "Cette \"inversion de population\" se fait en une seule itération, du fait de la structure de l'algorithme (chaque voiture minimise son prix), et les multiplicateurs de lagrange s'adaptent alors, ce qui donne une éxécution très lente à chaque inversion de population, avec une convergence très lente (le système s'équilibre quand la différence perçue entre les prix hauts et bas est faible, c'est à dire quand les multplicateurs couplés équilibres quasi-parfaitement les prix)"
   ]
  },
  {
   "cell_type": "markdown",
   "metadata": {},
   "source": [
    "## Analyse de l'erreur et nouvel algorithme"
   ]
  },
  {
   "cell_type": "markdown",
   "metadata": {},
   "source": [
    "L'erreur a ici été faite en ne considérant pas la puissance allouable à une voiture pour un temps donné comme une variable de décision, nous avons donc modifié l'algorithme proposé pour arriver à un algorithme ayant la même structure (décomposition / coordination), mais la coordination change non pas des multiplicateurs de lagrange mais des variables de décision : les puissances allouables\n",
    "\n",
    "Un pseudo code de l'algorithme finalement utilisé est donc le suivante ($eps$ est une borne fixée à l'avance, on a en pratique pris $ eps = 10^{-10} $)"
   ]
  },
  {
   "cell_type": "markdown",
   "metadata": {},
   "source": [
    "\n",
    "While $-eps > Puissance_{consommee} > 1 + eps$:\n",
    "    \n",
    " - décomposition:\n",
    "    - Résolution de chaque sous problème (changement des puissances allouées, jamais au dessus des puissances allouables)\n",
    "        \n",
    " - coordination:\n",
    "   - Changement des puissances_allouables\n",
    "\n",
    "La coordination se déroule de la manière suivante :\n",
    " - Evaluation de la surchage sur chaque créneau horaire (si surcharge il y a)\n",
    " - Réduction de la surchage sur les créneaux surchargés (on réduit les puissances allouées proportionnellement à la surchage, avec un facteur rho)\n",
    " - Si besoin, augmentation des puissances allouables sur les créneaux non surchagés pour garantir que chaque voiture aura assez de puissance disponible pour se charger, on assure ainsi la convergence de l'étape de décomposition\n",
    "\n",
    "L'implémentation brute est disponible plus loin dans le notebook"
   ]
  },
  {
   "cell_type": "markdown",
   "metadata": {},
   "source": [
    "On travaille donc avec $4N$ variables de décisions, N étant le nombre de points de discrétisation du temps:\n",
    " - $2N$ pour chaque puissance allouée à chaque temps dans les 2 voitures\n",
    " - $2N$ pour chaque puissance allouable à chaque temps dans les 2 voitures\n",
    " \n",
    "Et on a en tout $2 (N+1)$ multiplicateurs de Lagrange:\n",
    " - $2N$ pour assurer que chaque puissance allouée se situe bien entre 0 et la puissance allouable pour chaque voiture à chaque temps\n",
    " - $2$ pour assurer que la somme des puissances allouées au cours de la charge remplie bien la demande de l'utilisateur de chaque voiture\n",
    " \n",
    "Cela implique que notre matrice de décision $Var$ sera donc composée de quatre colonnes de longueur $N$, les deux premières pour les puissances allouées, les deux derniers pour les puissances allouables."
   ]
  },
  {
   "cell_type": "markdown",
   "metadata": {},
   "source": [
    "### Exemple précédent"
   ]
  },
  {
   "cell_type": "markdown",
   "metadata": {},
   "source": [
    "En affichant la même composante que précédemment dans les mêmes conditions, on obtient donc :"
   ]
  },
  {
   "cell_type": "markdown",
   "metadata": {},
   "source": [
    "![marche 1](figures/deux_voitures_V2/example1.png)"
   ]
  },
  {
   "cell_type": "markdown",
   "metadata": {},
   "source": [
    "### Exemple plus coriace et implémentation"
   ]
  },
  {
   "cell_type": "markdown",
   "metadata": {},
   "source": [
    "Mainenant que l'on sait que notre algorithme fonctionne, nous avons voulu le tester dans un cas plus compliqué.\n",
    "On a donc imposer un prix variable tout au long du temp et contraint les véhicules à  ne se charger que dans une certaines bandes de temps"
   ]
  },
  {
   "cell_type": "markdown",
   "metadata": {},
   "source": [
    "Pour mettre en place cette interdiction, on a utilisé un fonction $forbiden$, qui nous permet avant même le début de la résolution du problème de mettre en place les fonctions dont nous aurons besoin, en prenant en compte les contraintes de temps"
   ]
  },
  {
   "cell_type": "markdown",
   "metadata": {},
   "source": [
    "#### Définition des constantes et des variables "
   ]
  },
  {
   "cell_type": "code",
   "execution_count": 13,
   "metadata": {},
   "outputs": [],
   "source": [
    "import matplotlib.pyplot as plt\n",
    "import numpy as np\n",
    "import time\n",
    "# Constantes\n",
    "\n",
    "a = 0.00184507\n",
    "b = -0.00014853   # Négligé ici (ordonnée à l'origine du modèle de charge de batterie)\n",
    "P_max = 2000\n",
    "U = 400           # Tension secteur\n",
    "\n",
    "x0 = np.array([0 for _ in range(10)], dtype = float)\n",
    "P_allouable = np.array([1 for _ in range(10)], dtype = float)\n",
    "lambda0 = np.array([[1, 1, 1, 1, 1, 1, 1, 1, 1, 1, 1], [1, 1, 1, 1, 1, 1, 1, 1, 1, 1, 1]], dtype = float)\n",
    "Var = np.array([1*x0, 1*x0, 1*P_allouable, 1*P_allouable])\n",
    "\n",
    "GLOBAL_dt = 1e-1\n",
    "GLOBAL_Delta_charge = np.array([0.0035, 0.0035])\n",
    "GLOBAL_K = U/(a*P_max*GLOBAL_dt)\n",
    "\n",
    "GLOBAL_P_necessaire = GLOBAL_K * GLOBAL_Delta_charge\n",
    "\n",
    "\n",
    "def cout(t):\n",
    "    return (1 - t)**2 + 1 \n",
    "\n",
    "GLOBAL_Cout = np.array([ cout (i*GLOBAL_dt) for i in range(int(1/GLOBAL_dt))])"
   ]
  },
  {
   "cell_type": "markdown",
   "metadata": {},
   "source": [
    "Viennent ensuite les fonctions utiles au problème, déterminées par la fonction forbiden"
   ]
  },
  {
   "cell_type": "markdown",
   "metadata": {},
   "source": [
    "#### Définition des fonctions du problème en fonction des contraintes de temps (départ et arrivée)"
   ]
  },
  {
   "cell_type": "code",
   "execution_count": 14,
   "metadata": {},
   "outputs": [],
   "source": [
    "def forbiden(num, i):\n",
    "    if num == 0:\n",
    "        if i < 4:\n",
    "            return 1\n",
    "        else:\n",
    "            return 0\n",
    "    elif num == 1:\n",
    "        if i > 7:\n",
    "            return 1\n",
    "        else:\n",
    "            return 0"
   ]
  },
  {
   "cell_type": "code",
   "execution_count": 15,
   "metadata": {},
   "outputs": [],
   "source": [
    "def transformation_probleme(forbiden, Var):\n",
    "    global GLOBAL_dt\n",
    "    global GLOBAL_P_necessaire\n",
    "\n",
    "    n = len(Var[0])\n",
    "    # Gradient de f\n",
    "    Grad_f = []\n",
    "    for num in range(2):\n",
    "        Sous_grad = []\n",
    "        for i in range(n):\n",
    "            if not forbiden(num, i):\n",
    "                Sous_grad.append(cout(i*GLOBAL_dt))\n",
    "            else:\n",
    "                Sous_grad.append(0)\n",
    "        Grad_f.append(Sous_grad)\n",
    "\n",
    "    Grad_f = np.array(Grad_f, dtype = float)\n",
    "\n",
    "    # Puissance allouable\n",
    "\n",
    "    for num in range(2):\n",
    "        for i in range(n):\n",
    "            if forbiden(num, i):\n",
    "                Var[2 + num][i] = 0\n",
    "\n",
    "    # contraintes sur P\n",
    "\n",
    "    def contraintes_solo(num, X, P):\n",
    "        GLOBAL_P_necessaire\n",
    "        contraintes = []\n",
    "        n = len(X)\n",
    "        for i in range(n):\n",
    "            if forbiden(num, i):\n",
    "                contraintes.append(0)\n",
    "            else:\n",
    "                contraintes.append(X[i] * (X[i] - P[i]))\n",
    "\n",
    "        contraintes.append( - np.sum(X) + GLOBAL_P_necessaire[num])\n",
    "        return np.array(contraintes)\n",
    "\n",
    "    def grad_contraintes_solo(num, X, P):\n",
    "        grad = []\n",
    "        n = len(X)\n",
    "\n",
    "        for i in range(n):\n",
    "            grad.append([0 for _ in range(n)])\n",
    "            if not forbiden(num, i):\n",
    "                grad[i][i] = 2*X[i] - P[i]\n",
    "\n",
    "        grad.append([ -1 for _ in range(n)])\n",
    "        for i in range(n):\n",
    "            if forbiden(num, i):\n",
    "                grad[-1][i] = 0\n",
    "\n",
    "        return np.array(grad)\n",
    "\n",
    "    def coordination(Var, rho):\n",
    "        global GLOBAL_P_necessaire\n",
    "        n  = len(Var[0])\n",
    "\n",
    "        ## On évalue tout d'abord la surchage sur chaque créneau horaire\n",
    "        \n",
    "        surchage = []\n",
    "\n",
    "        for i in range(n):\n",
    "            if Var[0][i] + Var[1][i] >= 1:\n",
    "                surchage.append( Var[0][i] + Var[1][i] - 1)\n",
    "            else:\n",
    "                surchage.append(0)\n",
    "                \n",
    "        ## On réduit \n",
    "                \n",
    "        for num in range(2):\n",
    "            for i in range(n):\n",
    "                if not forbiden(num, i):\n",
    "                    Var[num + 2][i] -= rho*surchage[i]\n",
    "\n",
    "        while ( sum(Var[2]) - GLOBAL_P_necessaire[0] < 0 ) and ( sum(Var[3]) - GLOBAL_P_necessaire[1] < 0 ):\n",
    "            for num in range(2):\n",
    "                n_dispos = 0\n",
    "                indices_dispos = []\n",
    "                for i in range(n):\n",
    "                    if not forbiden(num, i) and Var[num + 2][i] != 0 and Var[num + 2][i] != 1:\n",
    "                        n_dispos += 1\n",
    "                        indices_dispos.append(i)\n",
    "\n",
    "            for i in indices_dispos:\n",
    "                Var[num + 2][i] = min(1 , Var[num+2][i] + (GLOBAL_P_necessaire[num] - sum(Var[num + 2]))/n_dispos)\n",
    "\n",
    "    return Grad_f, Var, contraintes_solo, grad_contraintes_solo, coordination\n",
    "\n",
    "grad_f, Var, contraintes_solo, grad_contraintes_solo, coordination = transformation_probleme(forbiden, Var)"
   ]
  },
  {
   "cell_type": "markdown",
   "metadata": {},
   "source": [
    "On utilise enfin le coeur de notre algorithme : la $decomposition$ (via la méthode d'Uzawa) et la $coordination$"
   ]
  },
  {
   "cell_type": "code",
   "execution_count": 16,
   "metadata": {},
   "outputs": [],
   "source": [
    "## Comme dans le cas à une voiture, en rajoutant les puissances allouables en paramètre\n",
    "\n",
    "def Uzawa_1_voiture(Grad_L, c, lambda0, xk, P_max, l, rho, num, max_iter = 1000000, epsilon_grad_L = 1e-3):\n",
    "    lam = lambda0\n",
    "    def update_lam(lam, rho, c, xk):\n",
    "        C = c(num, xk, P_max)\n",
    "        for i in range(len(lam)):\n",
    "            lam[i] = max(0, lam[i] + rho*C[i])\n",
    "    grad_l = Grad_L(lam, xk, P_max, num)\n",
    "    pk = -1*grad_l\n",
    "    xk += l*pk\n",
    "    update_lam(lam, rho, c, xk)\n",
    "    num_iter = 0\n",
    "\n",
    "    while num_iter < max_iter and np.linalg.norm(grad_l) > epsilon_grad_L:\n",
    "        grad_l = Grad_L(lam, xk, P_max, num)\n",
    "        pk = -1*grad_l\n",
    "        xk += l*pk\n",
    "        update_lam(lam, rho, c, xk)\n",
    "        num_iter += 1\n",
    "\n",
    "def decomposition(grad_f, c, grad_c, num_max, lam, Var, l, rho_solo):\n",
    "    def grad_L(lam, X, P, num):\n",
    "        return grad_f[num] + np.dot(lam,grad_c(num, X, P))\n",
    "    Uzawa_1_voiture(grad_L, c, lam[0], Var[0], Var[2], l, rho_solo, 0)\n",
    "    Uzawa_1_voiture(grad_L, c, lam[1], Var[1], Var[3], l, rho_solo, 1)\n",
    "\n",
    "def decomposition_coordination(grad_f, c_solo, grad_c, num_max, lambda0, Var, l, rho_solo, rho, max_iter = 100_000, eps_diff = 1e-10):\n",
    "    lam = 1*lambda0\n",
    "    num_iter = 0\n",
    "    decomposition(grad_f, c_solo, grad_c, num_max, lam, Var, l, rho_solo)\n",
    "    Puissances_consommees = Var[0] + Var[1]\n",
    "    Listes_puissances = [Puissances_consommees]\n",
    "    # Liste = [[ Var[0][3], Var[1][3] ]]\n",
    "    coordination(Var, rho)\n",
    "    while num_iter < max_iter and (Puissances_consommees >= 1 + eps_diff).any() :    \n",
    "        decomposition(grad_f, c_solo, grad_c, num_max, lam, Var, l, rho_solo)\n",
    "        temp = 1*lam\n",
    "        coordination(Var, rho)\n",
    "        Puissances_consommees = Var[0] + Var[1]\n",
    "        Listes_puissances.append(Puissances_consommees)\n",
    "        num_iter += 1\n",
    "        # Liste.append( [ Var[0][3], Var[1][3] ] )\n",
    "        print( num_iter)\n",
    "    return Listes_puissances"
   ]
  },
  {
   "cell_type": "markdown",
   "metadata": {},
   "source": [
    "On est donc prêts à tester notre exemple plus \"coriace\", et voilà les résultats"
   ]
  },
  {
   "cell_type": "markdown",
   "metadata": {},
   "source": [
    "### Résultats"
   ]
  },
  {
   "cell_type": "markdown",
   "metadata": {},
   "source": [
    "La prochaine figure affiche la somme des puissances allouées au fur et à mesure des itérations de l'algorithme, les numéros représentants les différents points de discrétisation du temps\n",
    "\n",
    "Les besoins de chaque voiture était d'environ \"3\", en unité normalisée (c'est à dire la même unité que le pourcentage de puissance allouée sur un point de discrétisation). Du fait de nos temps d'arrivée et de départ, on comprend vite que les voitures seront en compétition sur quelques plages de temps.\n",
    "\n",
    "Nous avons utilisé des constantes égales à $0.5$ pour :\n",
    " - Les pas de la méthode d'Uzawa (celui pour les multiplicateurs et celui pour le pas de descente de gradient)\n",
    " - Le pas d'ajustement des puissances allouables en fonction de la surchage"
   ]
  },
  {
   "cell_type": "markdown",
   "metadata": {},
   "source": [
    "![resultats 2](figures/deux_voitures_V2/beaucoup_ameliore.png)"
   ]
  },
  {
   "cell_type": "markdown",
   "metadata": {},
   "source": [
    "On observe que les prix les plus faibles sont tous d'abords monopolisés par les deux voitures, puis l'algorithme réduit la puissance allouable sur ces créneaux, la puissance allouée est ensuite reportée sur d'autres créneaux, qui saturent à leur tour, et ainsi de suite jusqu'à ce qu'on atteigne l'équilibre\n",
    "On converge dans notre exemple en 15 itérations"
   ]
  },
  {
   "cell_type": "markdown",
   "metadata": {},
   "source": [
    "## Comparaison avec des algorithmes LP"
   ]
  },
  {
   "cell_type": "markdown",
   "metadata": {},
   "source": [
    "Le problème étant modélisé de manière très particulière et n'ayant pas trouvé d'algorithme pré-programmé pouvant le réduire, nous n'avons pu comparer notre algorithme avec d'autres méthodes..."
   ]
  }
 ],
 "metadata": {
  "kernelspec": {
   "display_name": "Python 3",
   "language": "python",
   "name": "python3"
  },
  "language_info": {
   "codemirror_mode": {
    "name": "ipython",
    "version": 3
   },
   "file_extension": ".py",
   "mimetype": "text/x-python",
   "name": "python",
   "nbconvert_exporter": "python",
   "pygments_lexer": "ipython3",
   "version": "3.7.7"
  }
 },
 "nbformat": 4,
 "nbformat_minor": 2
}
