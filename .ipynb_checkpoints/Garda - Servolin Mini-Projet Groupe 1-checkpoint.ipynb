{
 "cells": [
  {
   "cell_type": "markdown",
   "metadata": {},
   "source": [
    "# Optimisation - Groupe 1"
   ]
  },
  {
   "cell_type": "markdown",
   "metadata": {},
   "source": [
    "## Charge d'une flotte de véhicules électriques"
   ]
  },
  {
   "cell_type": "markdown",
   "metadata": {},
   "source": [
    "On s’intéresse dans ce sujet à la charge de plusieurs véhicules électriques connectés à une station de recharge. Chaque véhicule est décrit par une heure et un état de charge d’arrivée et l’utilisateur indique au système d’ordonnancement une heure et un état de charge de récupération. On cherche dans ce contexte à assurer ces demandes, tout en minimisant le coût électrique de recharge et en assurant que la puissance électrique fournie aux différents véhicules ne dépasse pas la puis- sance maximale fournie par le réseau. On s’appuiera sur des données disponibles sur Oasis."
   ]
  },
  {
   "cell_type": "markdown",
   "metadata": {},
   "source": [
    "### 1. Modélisation"
   ]
  },
  {
   "cell_type": "markdown",
   "metadata": {},
   "source": [
    "1. Formuler la fonction objectif du problème. On pourra supposer l’existence de deux tarifs électriques (heures pleines et heures creuses).\n",
    "2. Formuler un modèle dynamique reliant l’état de charge d’un véhicule et la puissance qui lui est fournie.\n",
    "3. Proposer une méthodologie d’identification de ce modèle basée sur les données fournies sur Oasis et la mettre en oeuvre.\n",
    "4. Formaliser les contraintes restantes du problème et formuler le problème de minimisation correspondant. On précisera en particulier les variables de décision, les contraintes (au nombre de six) et la fonction objectif du problème."
   ]
  },
  {
   "cell_type": "markdown",
   "metadata": {},
   "source": [
    "### 2. Etude et résolution numérique"
   ]
  },
  {
   "cell_type": "markdown",
   "metadata": {},
   "source": [
    "On s’intéresse dans un premier temps au cas d’un seul véhicule.\n",
    "1. Etudier le problème (convexité, conditionnement, existence et unicité d’une solution) par la méthode, analytique ou numérique, de votre choix. Proposer une méthode de résolution adaptée aux caractéristiques du problème.\n",
    "2. Proposer des ordres de grandeurs pour les variables du problème et développer un algorithme de résolution. Commenter les résultats obtenus."
   ]
  },
  {
   "cell_type": "markdown",
   "metadata": {},
   "source": [
    "### 3. Etude avancée"
   ]
  },
  {
   "cell_type": "markdown",
   "metadata": {},
   "source": [
    "\n",
    "On se propose maintenant d’étudier le problème de plusieurs véhicules.\n",
    "3. Etudier la faisabilité d’une méthode de décomposition-coordination (présentée en annexe).\n",
    "4. Appliquer cette méthodologie dans le cas de deux véhicules. L’implémenter. Commenter les résultats obtenus."
   ]
  },
  {
   "cell_type": "markdown",
   "metadata": {},
   "source": [
    "#### Annexe : Algorithme de décomposition/coordination\n",
    "L’algorithme de décomposition/coordination par méthode d’Uzawa permet de résoudre un problème d’optimisation dans le cas où :\n",
    "- le coût $f$ se décompose comme une somme de différents termes ne dépendant que d’une variable de décision\n",
    "$$ f (x) = f_1(x_1) + . . . + f_n(x_n) $$\n",
    "- les containtes inégalités (et égalités) $c$ se décomposent comme une somme de différents termes ne dépendant que d’une variable de décision\n",
    "$$ c(x) = c_1(x_1) + . . . + c_n(x_n)$$\n",
    "Le principe de l’algorithme est alors de \"décomposer\" le problème à l’aide du Lagrangien, de résoudre n problèmes d’optimisation sous contraintes à l’aide des multiplicateurs de Lagrange et de \"coordonner\" les solutions pour mettre à jour les variables couplées (les multiplicateurs).\n",
    "\n",
    "Il prend la forme suivante :\n",
    "\n",
    "##### Algorithme 1 (Décomposition/coordination)\n",
    "1. Initialisation ($k = 0$) : on choisit le multiplicateur $\\lambda_0$ et le pas $\\rho$.\n",
    "2. Décomposition : on résout les $n$ problèmes :\n",
    "$$ min (f_i(x_i) + \\lambda^k c_i(x_i)) $$\n",
    "dont on note $x^k_i$ les solutions.\n",
    "3. Coordination : effectuer les mises à jour des multiplicateurs\n",
    "$$ \\lambda^{k+1} =P(\\lambda^k +\\rho [c_1(x^k_1)+...+c_n(x^k_n)]) $$\n",
    "où $P$ est la projection sur $\\mathbb{(R^+)}^m$\n",
    "4. Test d’arrêt : si $|\\lambda^{k+1} − \\lambda^k|$ est suffisamment petit, on arrête l’algorithme. Sinon, $k = k + 1$ et on revient à l’étape 2."
   ]
  },
  {
   "cell_type": "markdown",
   "metadata": {},
   "source": [
    "### Propositions d'Antoine :"
   ]
  },
  {
   "cell_type": "markdown",
   "metadata": {},
   "source": [
    "# Exploration du problème"
   ]
  },
  {
   "cell_type": "markdown",
   "metadata": {},
   "source": [
    "### Fonction objectif"
   ]
  },
  {
   "cell_type": "markdown",
   "metadata": {},
   "source": [
    "On est face à un problème de répartition de puissance : on peut représenter le problème par un vecteur colonne de $N$ éléments représentant chacun une voiture et dont la composante $i$ représente la fraction de puissance du centre $P$ allouée à la voiture sur la place $i$. En notant ce vecteur $v$ on aura alors : \n",
    "    $\\sum \\limits_{i=1}^N v_i \\le 1$ et \n",
    "    $\\forall i \\in [1,N], v_i \\in [0,1]$. Ces $(v_i)_{i \\in [1;N]}$ sont nos variables de décisions.\n",
    "\n",
    "Etant donné ce vecteur $v(t)$ on peut alors donner le coût total de charge : $f(v) = \\sum\\limits_{i=1}^N \\displaystyle \\int_{t_{i_0}}^{t_{i_1}} v_i(t)*c(t) \\, \\mathrm{d}t := \\sum\\limits_{i=1}^N f_i(v)$\n",
    "\n",
    "En notant $ c : t \\in \\mathbb R^+ \\Longrightarrow c(t) $ la fonction de coût de la puissance électrique en fonction du temps en seconde(la référence de temps est prise à EPOCH, le $1^{er}$ janvier 1970 à 00h), prenant en compte le tarif des heures pleines et heures creuses :\n",
    "$$ t \\in [6;22], c(t) = c_p$$\n",
    "$$ t \\in [0;6]\\cup[22;24], c(t) = c_c$$\n",
    "En ayant converti le temps en heures de la manière suivante : $$\\lfloor t/3600 \\rfloor \\pmod {24}$$\n",
    "\n",
    "Enfin on note $P$ la puissance totale du centre, ainsi que $batt_i(t) =  batt_i(t_{i_0}) + \\displaystyle \\int_{t_{i_0}}^{t} rech(P*v_i(x), batt_i(x)) \\, \\mathrm{d}x  $ la fonction représentant la batterie de la voiture $i$ à l'instant $t$, où l'on aura noté $rech$ la fonction de recharge d'une batterie, qui prend donc en argument la puissance reçue et la charge de la batterie"
   ]
  },
  {
   "cell_type": "markdown",
   "metadata": {},
   "source": [
    "### Modèle de recharge en fonction de la puissance reçue"
   ]
  },
  {
   "cell_type": "markdown",
   "metadata": {},
   "source": [
    "J'ai un peu cherché et j'ai demandé conseil à notre chargé de TD, on va voir ce qu'il répond\n",
    "\n",
    "Parce que le problème est que beaucoup de modèles sont possibles, notamment en fonction de la batterie du véhicule... On a assez peu d'infos là dessus et ce choix va bcp conditionner nos solutions"
   ]
  },
  {
   "cell_type": "markdown",
   "metadata": {},
   "source": [
    "### Contraintes"
   ]
  },
  {
   "cell_type": "markdown",
   "metadata": {},
   "source": [
    "Là dessus on a assez peu de choix (on est assez contraints lol). Le sujet parle de 6 contraintes, j'ai trouvé celles-ci :\n",
    " - Puissance max autorisée : $\\forall t,  \\sum \\limits_{i=1}^N v_i(t) \\leq 1$\n",
    " - Heure d'arrivée de la voiture $i$ : $t_{i_0} $. Contrainte associée : $v_i(t_i)_{t_i \\leq t_{i_0}} = 0$ \n",
    " - Heure de départ de la voiture $i$ : $t_{i_1} $. Contrainte associée : $v_i(t_i)_{t_i \\ge t_{i_1}} = 0$ \n",
    " - Taux de charge initial : $c_{i_0}$. Contrainte associée : $batt_i(t_{i_0}) = c_{i_0}$ \n",
    " - Taux de charge final : $c_{i_1}$. Contrainte associée : $batt_i(t_{i_1}) = c_{i_1}$ \n",
    " - Modèle de recharge de la batterie.\n",
    " \n",
    " Ce sont les seules contraintes qui agissent, selon moi, sur les variables de décisions. Pour les 5 premières l'influence sur le vecteur $v$ me semble évidente, et pour la dernière la modification du modèle de recharge va changer la courbe de recharge des batteries et influencer nos solutions.\n",
    " \n",
    " Nous pourrons d'ailleurs changer ce modèle afin d'observer son influence sur nos solutions\n",
    " "
   ]
  },
  {
   "cell_type": "markdown",
   "metadata": {},
   "source": [
    "## Problème de minimisation"
   ]
  },
  {
   "cell_type": "markdown",
   "metadata": {},
   "source": [
    "On fait donc face au problème suivant :"
   ]
  },
  {
   "cell_type": "markdown",
   "metadata": {},
   "source": [
    "$\\min\\limits_{\\forall t,  \\sum \\limits_{i=1}^N v_i(t) \\leq 1 , v_i(t_i)_{t_i \\leq t_{i_0}} = 0 , v_i(t_i)_{t_i \\ge t_{i_1}} = 0 , c_{i_0} + \\displaystyle \\int_{t_{i_0}}^{t_{i_1}} rech(P*v_i(x), batt_i(x)) \\, \\mathrm{d}x = c_{i_1}}\n",
    "( \\sum\\limits_{i=1}^N \\displaystyle \\int_{t_{i_0}}^{t_{i_1}} P*v_i(t)*c(t) \\, \\mathrm{d}t )\n",
    "$"
   ]
  },
  {
   "cell_type": "markdown",
   "metadata": {},
   "source": [
    "Ou plus succintement :"
   ]
  },
  {
   "cell_type": "markdown",
   "metadata": {},
   "source": [
    "$\\min\\limits_{\\forall t,  \\sum \\limits_{i=1}^N v_i(t) \\leq 1 , v_i(t_i)_{t_i \\leq t_{i_0}, t_i \\ge t_{i_1}} = 0 , v_i(t_i)_{t_i \\ge t_{i_1}} = 0 , batt_i(t_{i_0}) = c_{i_0}, batt_i(t_{i_1}) = c_{i_1}}\n",
    "( f(v) )\n",
    "$"
   ]
  },
  {
   "cell_type": "markdown",
   "metadata": {},
   "source": [
    "# Seconde modélisation"
   ]
  },
  {
   "cell_type": "markdown",
   "metadata": {},
   "source": [
    "## Cadre d'étude"
   ]
  },
  {
   "cell_type": "markdown",
   "metadata": {},
   "source": [
    "On discrétise le temps en T points : $(t_i)_{i \\in [1,T]}$. Les voitures sont au nombre de N $(voitures_i)_{i \\in [1,N]}$.\n",
    "\n",
    "On se munit également d'un vecteur ligne de coût de l'électricité : $ C := (c_i)_{i \\in [1,T]}$ et d'une matrice $V$ dont l'élément d'indice $(i,j)$ représente la fraction de puissance totale allouée à la voiture $j$ au temps $t_i$\n",
    "\n",
    "On notera $i_0$ et $i_1$ les temps d'arrivée et de départ de la voiture $i$, ainsi que $Charge_i^0$ et $Charge_i^1$ ses taux de charge à l'arrivée et au départ du centre.\n",
    "\n",
    "La batterie de la voiture $j$ au temps $i$ sera représentée par l'élément d'indice $(i,j)$  de la matrice $Charge$.\n",
    "\n",
    "On note enfin $U$ la tension nominale de charge, $P$ la puissance totale du centre."
   ]
  },
  {
   "cell_type": "markdown",
   "metadata": {},
   "source": [
    "## Formalisation du problème"
   ]
  },
  {
   "cell_type": "markdown",
   "metadata": {},
   "source": [
    "### Fonction objectif"
   ]
  },
  {
   "cell_type": "markdown",
   "metadata": {},
   "source": [
    "La fonction a minimser est la somme des coûts de la puissance réquisitionnée par le centre.\n",
    "\n",
    "Nous pouvons la représenter par : $f(V) = \\sum\\limits_{i=1}^N \\displaystyle \\int_{0}^{T} c(t)*V_i(t) \\, \\mathrm{d}t = \\sum\\limits_{i = 1, j = 1}^{i = N, j = T} c_i*v_{i,j} = sum(c*V) = \\sum\\limits_{i=1}^N f_i(V)$\n",
    "\n",
    "On on a noté $f_i$ la fonction qui à la matrice $V$ associe le coût de la voiture $i$ sur tout l'intervalle de temps : $f_i(V) = c*V^T[i]$"
   ]
  },
  {
   "cell_type": "markdown",
   "metadata": {},
   "source": [
    "### Contraintes"
   ]
  },
  {
   "cell_type": "markdown",
   "metadata": {},
   "source": [
    "#### Contraintes pré-analyse"
   ]
  },
  {
   "cell_type": "markdown",
   "metadata": {},
   "source": [
    "Nous avons tout d'abord identifié 6 contraintes dans ce problème, les voici :"
   ]
  },
  {
   "cell_type": "markdown",
   "metadata": {},
   "source": [
    " - Puissance max autorisée : $\\forall i \\in [0,T],  \\sum \\limits_{j=1}^N v_{i,j} \\leq 1$\n",
    " - Heure d'arrivée de la voiture $j$ : $t_{j_0} $. Contrainte associée : $v_{{i,j}_{i \\leq i_0}} = 0$ \n",
    " - Heure de départ de la voiture $j$ : $t_{j_1} $. Contrainte associée : $v_{{i,j}_{i \\ge i_1}} = 0$ \n",
    " - Taux de charge initial. Contrainte associée : $Charge_{i_0,i} = Charge_i^0$ \n",
    " - Taux de charge final. Contrainte associée : $Charge_{i_1,i} = Charge_i^1$ \n",
    " - Modèlisation de la charge de la batterie"
   ]
  },
  {
   "cell_type": "markdown",
   "metadata": {},
   "source": [
    "#### Modélisation de la batterie"
   ]
  },
  {
   "cell_type": "markdown",
   "metadata": {},
   "source": [
    "Nous avons reçu un échantillon de données représentant le taux de charge d'une batterie et l'intensité de chargement en fonction du temps. A partir de ces données nous avons pu lier la vitesse de charge d'une batterie en fonction de l'intensité de chargement."
   ]
  },
  {
   "cell_type": "markdown",
   "metadata": {},
   "source": [
    "![donnees](figures/affichage_donnees.png)"
   ]
  },
  {
   "cell_type": "markdown",
   "metadata": {},
   "source": [
    "On repère ici différents palliers d'intensité de charge. Ceci nous a incité à créer le graphique suivant"
   ]
  },
  {
   "cell_type": "markdown",
   "metadata": {},
   "source": [
    "![donnees](figures/affichage_donnees_2.png)"
   ]
  },
  {
   "cell_type": "markdown",
   "metadata": {},
   "source": [
    "On voit ici se dessiner un modèle linéaire, très bruité. Nous avons donc décidé de faire la moyenne de la vitesse de charge pour chaque pallier d'intensité (pour réduire ce bruit), puis d'appliquer la méthode des moindres carrés pour trouver la droite modélisant le mieux cet échantillon de données"
   ]
  },
  {
   "cell_type": "markdown",
   "metadata": {},
   "source": [
    "![modele](figures/modele_de_recharge_lstsq_test.png)"
   ]
  },
  {
   "cell_type": "markdown",
   "metadata": {},
   "source": [
    "On obtient donc la relation suivante :\n",
    "\n",
    "$Charge_{i+1,j} = Charge_{i,j} + \\Delta t * (a * P *\\frac{V_{i,j}}{U} + b)$ avec $a$ le coefficient directeur et $b$ l'ordonnée à l'origine du modèle linéaire. \n",
    "\n",
    "On a donc : $Charge_{i_1,i} - Charge_{i_0,i} = \\Delta t * P * a * \\frac{\\sum\\limits_{i = i_0}^{i_1} V_{i,j}}{U} + (i_1 - i_0) * b * \\Delta t$ \n",
    "\n",
    "Or on a trouvé b de l'ordre de $10^{-3}$ donc négligable ici et on a la nullité de $V_{i,j}$ en dehors des termes de la somme. Ceci est cohérent avec le modèle choisi : si l'intensité est nulle, la voiture au repos voit sa batterie rester constante.\n",
    "\n",
    "On a donc enfin : $Charge_{i_1,i} - Charge_{i_0,i} = \\Delta t * P * a * \\frac{\\sum\\limits_{i = 0}^{T} V_{i,j}}{U}$\n",
    "\n",
    "D'où la contrainte simplifiée suivante : $\\sum\\limits_{i = 0}^{T} V_{i,j} = U * \\frac {\\Delta Charge_j}{\\Delta t * a * P}$"
   ]
  },
  {
   "cell_type": "markdown",
   "metadata": {},
   "source": [
    "#### Ré-évaluation des contraintes"
   ]
  },
  {
   "cell_type": "markdown",
   "metadata": {},
   "source": [
    "Les contraintes du problème deviennent alors\n",
    "  - Puissance maximale autorisée $P$ : $\\forall i \\in [0,T],  \\sum \\limits_{j=1}^N v_{i,j} \\leq 1$\n",
    "  - Heure d'arrivée et de départ des voitures. $\\forall j \\in [1,N], v_{{i,j}_{i < j_0}} = 0 = v_{{i,j}_{i > j_1}}$\n",
    "  - Charge obligatoire : $\\forall j \\in [1,N], \\sum\\limits_{i = 0}^{T} V_{i,j} = \\Delta Charge_j * \\frac {U}{\\Delta t * a * P} = \\Delta Charge_j * K$ avec $K = \\frac {U}{\\Delta t * a * P}$ constant. "
   ]
  },
  {
   "cell_type": "markdown",
   "metadata": {},
   "source": [
    "### Problème final"
   ]
  },
  {
   "cell_type": "markdown",
   "metadata": {},
   "source": [
    "Finalement, nous en arrivons au problème final, comportant des contraintes individuelles (la charge) et des contraintes couplées (la puissance maximale à ne pas dépasser), tout en prenant en compte le coût des charges:\n",
    "\n",
    "$$ \\min\\limits_{\\forall i \\in [0,T],  \\sum \\limits_{j=1}^N v_{i,j} \\leq 1, \\forall j \\in [1,N] , \\sum\\limits_{i = j_0}^{j_1} V_{i,j} = \\Delta Charge_j * K} (f(V))$$"
   ]
  },
  {
   "cell_type": "markdown",
   "metadata": {},
   "source": [
    "# Etude du problème"
   ]
  },
  {
   "cell_type": "markdown",
   "metadata": {},
   "source": [
    "## Cas d'un unique véhicule"
   ]
  },
  {
   "cell_type": "markdown",
   "metadata": {},
   "source": [
    "L'étude d'un cas simple tel que le problème à un véhicule est utile afin de comprendre les spécificités de ce problème. Nous allons tout d'abord étudier la fonction objectif, puis l'existence puis l'unicité des solutions de ce problème.\n",
    "\n",
    "Pour ce cas particulier, on considérera que l'on se place sur l'intervalle de temps correspondant exactement à celui de la charge de la voiture. Cela évite de contrainte la nullité de certaines $v_i$"
   ]
  },
  {
   "cell_type": "markdown",
   "metadata": {},
   "source": [
    "### Etude de la fonction objectif"
   ]
  },
  {
   "cell_type": "markdown",
   "metadata": {},
   "source": [
    "On a, pour $V \\in \\mathbb R^T, f(V) = C*V$\n",
    "\n",
    "Donc f est linéaire, donc convexe (mais pas fortement)."
   ]
  },
  {
   "cell_type": "markdown",
   "metadata": {},
   "source": [
    "### Existence et unicité des solutions"
   ]
  },
  {
   "cell_type": "markdown",
   "metadata": {},
   "source": [
    "Ce problème admettra une solution lorsque les contraintes définissent un domaine non vide. En effet ces contraintes donneraient alors un espace fermé explorable par la fonction objectif, qui est linéaire en dimension finie donc continue.\n",
    "\n",
    "Le théorème de Weierstrass assure alors l'existence d'une solution au problème de minimisation."
   ]
  },
  {
   "cell_type": "markdown",
   "metadata": {},
   "source": [
    "Dans le cas d'un unique véhicule, on a N = 1, ainsi les contraintes se résument à :\n",
    " - $\\forall i \\in [1,T], V_{i,1} \\leq 1$\n",
    " - $\\sum\\limits_{i = 1_0}^{1_1} V_{i,1} = \\Delta Charge_1 * K$\n",
    " \n",
    " Le problème est donc solvable si et seulement si lorsque l'on maximise la puissance donnée à la voiture on dépasse la contrainte de charge, donc si et seulement si :\n",
    " $$ \\frac{1_1 - 1_0}{K} \\ge \\Delta Charge_1 $$"
   ]
  },
  {
   "cell_type": "markdown",
   "metadata": {},
   "source": [
    "Nous cherchons aussi une condition nécessaire et suffisante afin d'assurer l'unicité d'une solution. On raisonne donc par disjonction de cas. On se place du point de vue d'une solution au problème.\n",
    "\n",
    "Deux cas de figure se présentent alors:\n",
    " - Si aucune charge n'est réalisée sur une heure pleine\n",
    " - Si une partie de la charge est réalisée sur une heure creuse\n",
    " \n",
    "Dans le premier cas: \n",
    " - Si la puissance est maximale pendant toute la durée des heures creuses : La solution est unique.\n",
    " - Si non, alors on dispose de deux indices de temps en heures creuses pour lesquels la puissance délivrée à la voiture est différente, on peut alors intervertir les puissances de ces deux indices. On a donc le même coût en électricité, mais pas le même profil de charge : La solution n'est pas unique\n",
    "\n",
    "Dans le second cas, on a nécessairement une puissance maximale sur les heures creuses, car sinon le coût de charge n'est pas optimal. On a également une disjonction de cas semblable au premier cas:\n",
    " - Si la puissance est maximale pendant toute la durée des heures pleines : La solution est unique\n",
    " - Si non, alors on dispose de deux indices de temps en heures pleines pour lesquels la puissance délivrée à la voiture est différente, on peut alors intervertir les puissances de ces deux indices. On a donc le même coût en électricité, mais pas le même profil de charge : La solution n'est pas unique"
   ]
  },
  {
   "cell_type": "markdown",
   "metadata": {},
   "source": [
    "Finalement, on a unicité de la solution si et seulement si on a :\n",
    "$$ \\sum\\limits_{i \\in heures creuses} 1 = \\Delta Charge_1 * K $$ \n",
    "\n",
    "ou \n",
    "\n",
    "$$ 1_1 - 1_0 = \\Delta Charge_1 * K$$\n",
    "\n",
    "Ce qui en pratique n'arrivera pas."
   ]
  },
  {
   "cell_type": "markdown",
   "metadata": {},
   "source": [
    "### Résolution du problème"
   ]
  },
  {
   "cell_type": "markdown",
   "metadata": {},
   "source": [
    "Dans ce cas simple, nous avons occulté les contraintes de nullité sur les $v_i$, comme dit précédemment.\n",
    "\n",
    "On peut résoudre ce problème par l'algorithme d'Uzawa"
   ]
  },
  {
   "cell_type": "markdown",
   "metadata": {},
   "source": [
    "Pour les constantes du problème, nous avons adopté les valeurs suivantes :\n",
    " - Puissance totale du centre : $P = 2000 W$\n",
    " - Tension de charge unitaire : $U = 400 V$\n",
    " - Pente de charge : $a = 0.00184507 A^{-1}$ \n",
    "\n",
    "Ceci nous donne un coefficient totale $K = 1083.9697$\n",
    "\n",
    "Enfin nous avons discrétisé le temps en 10 points, chacun représentant une seconde."
   ]
  },
  {
   "cell_type": "markdown",
   "metadata": {},
   "source": [
    "### Résultats"
   ]
  },
  {
   "cell_type": "markdown",
   "metadata": {},
   "source": [
    "L'algorithme a bien fonctionné, voilà le profil de charge que l'on obtient :"
   ]
  },
  {
   "cell_type": "markdown",
   "metadata": {},
   "source": []
  },
  {
   "cell_type": "markdown",
   "metadata": {},
   "source": []
  }
 ],
 "metadata": {
  "kernelspec": {
   "display_name": "Python 3",
   "language": "python",
   "name": "python3"
  },
  "language_info": {
   "codemirror_mode": {
    "name": "ipython",
    "version": 3
   },
   "file_extension": ".py",
   "mimetype": "text/x-python",
   "name": "python",
   "nbconvert_exporter": "python",
   "pygments_lexer": "ipython3",
   "version": "3.7.2"
  }
 },
 "nbformat": 4,
 "nbformat_minor": 2
}
